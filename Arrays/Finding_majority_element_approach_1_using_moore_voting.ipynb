{
  "nbformat": 4,
  "nbformat_minor": 0,
  "metadata": {
    "colab": {
      "name": "Finding majority element approach-1 using moore voting ",
      "version": "0.3.2",
      "provenance": [],
      "collapsed_sections": []
    },
    "kernelspec": {
      "name": "python3",
      "display_name": "Python 3"
    }
  },
  "cells": [
    {
      "cell_type": "code",
      "metadata": {
        "id": "3s04-i0MFCru",
        "colab_type": "code",
        "colab": {}
      },
      "source": [
        "import math\n",
        "def maj(arr):\n",
        "  count = 1\n",
        "  maj = arr[0]\n",
        "  for i in range(1,len(arr)):\n",
        "    if maj == arr[i]:\n",
        "      count+=1\n",
        "    else:\n",
        "      count-=1\n",
        "    if count == 0:\n",
        "      maj = arr[i]\n",
        "      count = 1\n",
        "  c = 0\n",
        "  for i in range(len(arr)):\n",
        "    if maj == arr[i]:\n",
        "      c +=1\n",
        "  if c > len(arr)/2:\n",
        "    return maj\n",
        "  else:\n",
        "    return False\n",
        "    "
      ],
      "execution_count": 0,
      "outputs": []
    },
    {
      "cell_type": "code",
      "metadata": {
        "id": "aCaEMm-iKYhL",
        "colab_type": "code",
        "outputId": "3b4641a1-4ade-480e-f198-82c8b851a1a0",
        "colab": {
          "base_uri": "https://localhost:8080/",
          "height": 35
        }
      },
      "source": [
        "maj([5,7,5,1,5,1,5,8,5])"
      ],
      "execution_count": 41,
      "outputs": [
        {
          "output_type": "execute_result",
          "data": {
            "text/plain": [
              "5"
            ]
          },
          "metadata": {
            "tags": []
          },
          "execution_count": 41
        }
      ]
    },
    {
      "cell_type": "code",
      "metadata": {
        "id": "3TX42neZKxFp",
        "colab_type": "code",
        "outputId": "1bc84249-debb-4c5b-ee11-e7fdf8715549",
        "colab": {
          "base_uri": "https://localhost:8080/",
          "height": 35
        }
      },
      "source": [
        "maj([2,2,1,1,3])"
      ],
      "execution_count": 44,
      "outputs": [
        {
          "output_type": "execute_result",
          "data": {
            "text/plain": [
              "False"
            ]
          },
          "metadata": {
            "tags": []
          },
          "execution_count": 44
        }
      ]
    },
    {
      "cell_type": "code",
      "metadata": {
        "id": "uMD84zO-Kzji",
        "colab_type": "code",
        "colab": {}
      },
      "source": [
        ""
      ],
      "execution_count": 0,
      "outputs": []
    }
  ]
}