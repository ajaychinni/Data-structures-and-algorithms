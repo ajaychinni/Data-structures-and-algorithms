{
  "nbformat": 4,
  "nbformat_minor": 0,
  "metadata": {
    "colab": {
      "name": "Binnary_Search.ipynb",
      "version": "0.3.2",
      "provenance": []
    },
    "kernelspec": {
      "name": "python3",
      "display_name": "Python 3"
    }
  },
  "cells": [
    {
      "cell_type": "code",
      "metadata": {
        "id": "3s04-i0MFCru",
        "colab_type": "code",
        "colab": {}
      },
      "source": [
        "def bin_search(arr,k):\n",
        "  low = 0\n",
        "  high = len(arr) - 1\n",
        "  while low <= high:\n",
        "    mid = low +(high - low)//2\n",
        "    if arr[mid]== k:\n",
        "      return True\n",
        "    elif arr[mid] < k:\n",
        "      low  = mid +1\n",
        "    else:\n",
        "      high = mid -1\n",
        "  return False\n"
      ],
      "execution_count": 0,
      "outputs": []
    },
    {
      "cell_type": "code",
      "metadata": {
        "id": "aCaEMm-iKYhL",
        "colab_type": "code",
        "colab": {
          "base_uri": "https://localhost:8080/",
          "height": 35
        },
        "outputId": "c0955766-2eed-42fd-a6a8-bf335bed1e1d"
      },
      "source": [
        "bin_search([1,5,7,9,12],2)\n"
      ],
      "execution_count": 47,
      "outputs": [
        {
          "output_type": "execute_result",
          "data": {
            "text/plain": [
              "False"
            ]
          },
          "metadata": {
            "tags": []
          },
          "execution_count": 47
        }
      ]
    },
    {
      "cell_type": "code",
      "metadata": {
        "id": "3TX42neZKxFp",
        "colab_type": "code",
        "colab": {
          "base_uri": "https://localhost:8080/",
          "height": 35
        },
        "outputId": "553c1a92-6cc0-4e14-d0ff-24d500e07af0"
      },
      "source": [
        "bin_search([1,5,7,9,12],7)"
      ],
      "execution_count": 48,
      "outputs": [
        {
          "output_type": "execute_result",
          "data": {
            "text/plain": [
              "True"
            ]
          },
          "metadata": {
            "tags": []
          },
          "execution_count": 48
        }
      ]
    },
    {
      "cell_type": "code",
      "metadata": {
        "id": "uMD84zO-Kzji",
        "colab_type": "code",
        "colab": {}
      },
      "source": [
        ""
      ],
      "execution_count": 0,
      "outputs": []
    }
  ]
}