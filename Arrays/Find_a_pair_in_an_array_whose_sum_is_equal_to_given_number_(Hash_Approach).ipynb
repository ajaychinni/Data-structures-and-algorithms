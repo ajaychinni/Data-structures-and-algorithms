{
  "nbformat": 4,
  "nbformat_minor": 0,
  "metadata": {
    "colab": {
      "name": "Find a pair in an array whose sum is equal to given number (Hash Approach)",
      "version": "0.3.2",
      "provenance": [],
      "collapsed_sections": []
    },
    "kernelspec": {
      "name": "python3",
      "display_name": "Python 3"
    }
  },
  "cells": [
    {
      "cell_type": "code",
      "metadata": {
        "id": "3s04-i0MFCru",
        "colab_type": "code",
        "colab": {}
      },
      "source": [
        "#approch 2  O(n)\n",
        "def sum_pair(arr,k):\n",
        "  d = {}\n",
        "  for i in range(len(arr)):\n",
        "    if arr[i] in d:\n",
        "      d[arr[i]]+=1\n",
        "    else:\n",
        "      d[arr[i]] = 1\n",
        "  for j in range(len(arr)):\n",
        "    f =  k - arr[j]\n",
        "    if f in d:\n",
        "      return arr[j],f\n",
        "  return False"
      ],
      "execution_count": 0,
      "outputs": []
    },
    {
      "cell_type": "code",
      "metadata": {
        "id": "aCaEMm-iKYhL",
        "colab_type": "code",
        "colab": {
          "base_uri": "https://localhost:8080/",
          "height": 35
        },
        "outputId": "73b64765-0592-4c04-9964-bcb664d51ae0"
      },
      "source": [
        "sum_pair([1,5,7,9,12],3)\n"
      ],
      "execution_count": 80,
      "outputs": [
        {
          "output_type": "execute_result",
          "data": {
            "text/plain": [
              "False"
            ]
          },
          "metadata": {
            "tags": []
          },
          "execution_count": 80
        }
      ]
    },
    {
      "cell_type": "code",
      "metadata": {
        "id": "3TX42neZKxFp",
        "colab_type": "code",
        "colab": {
          "base_uri": "https://localhost:8080/",
          "height": 35
        },
        "outputId": "f80bef96-83d4-4bbc-87f2-f67239248d95"
      },
      "source": [
        "sum_pair([1,5,7,9,12],17)"
      ],
      "execution_count": 79,
      "outputs": [
        {
          "output_type": "execute_result",
          "data": {
            "text/plain": [
              "(5, 12)"
            ]
          },
          "metadata": {
            "tags": []
          },
          "execution_count": 79
        }
      ]
    },
    {
      "cell_type": "code",
      "metadata": {
        "id": "uMD84zO-Kzji",
        "colab_type": "code",
        "colab": {}
      },
      "source": [
        ""
      ],
      "execution_count": 0,
      "outputs": []
    }
  ]
}