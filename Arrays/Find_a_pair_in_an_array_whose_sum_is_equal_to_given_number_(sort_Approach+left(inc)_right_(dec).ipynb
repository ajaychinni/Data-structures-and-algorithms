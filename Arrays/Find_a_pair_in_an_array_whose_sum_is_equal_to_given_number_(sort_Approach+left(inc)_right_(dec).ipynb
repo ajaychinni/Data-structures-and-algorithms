{
  "nbformat": 4,
  "nbformat_minor": 0,
  "metadata": {
    "colab": {
      "name": "Find a pair in an array whose sum is equal to given number (sort Approach+left(inc) right (dec)",
      "version": "0.3.2",
      "provenance": [],
      "collapsed_sections": []
    },
    "kernelspec": {
      "name": "python3",
      "display_name": "Python 3"
    }
  },
  "cells": [
    {
      "cell_type": "code",
      "metadata": {
        "id": "3s04-i0MFCru",
        "colab_type": "code",
        "colab": {}
      },
      "source": [
        "#approch 2  O(n)\n",
        "def sum_pair(arr,k):\n",
        "  arr.sort()\n",
        "  l = 0\n",
        "  r = len(arr) -1\n",
        "  while l <= r:\n",
        "    if arr[l] + arr[r]  == k:\n",
        "      return arr[l], arr[r]\n",
        "    elif arr[l] + arr[r] > k:\n",
        "      r -=1\n",
        "    else:\n",
        "      l +=1\n",
        "  return False\n",
        "    "
      ],
      "execution_count": 0,
      "outputs": []
    },
    {
      "cell_type": "code",
      "metadata": {
        "id": "aCaEMm-iKYhL",
        "colab_type": "code",
        "colab": {
          "base_uri": "https://localhost:8080/",
          "height": 35
        },
        "outputId": "3a02f2f8-0d41-4ea8-b6c1-f2c71e27f6ea"
      },
      "source": [
        "sum_pair([6,5,2,15,12],3)"
      ],
      "execution_count": 99,
      "outputs": [
        {
          "output_type": "execute_result",
          "data": {
            "text/plain": [
              "False"
            ]
          },
          "metadata": {
            "tags": []
          },
          "execution_count": 99
        }
      ]
    },
    {
      "cell_type": "code",
      "metadata": {
        "id": "3TX42neZKxFp",
        "colab_type": "code",
        "colab": {
          "base_uri": "https://localhost:8080/",
          "height": 35
        },
        "outputId": "db00642e-f88b-419a-f0e0-07bdf65b00fb"
      },
      "source": [
        "sum_pair([6,5,2,15,12],14)"
      ],
      "execution_count": 104,
      "outputs": [
        {
          "output_type": "execute_result",
          "data": {
            "text/plain": [
              "(2, 12)"
            ]
          },
          "metadata": {
            "tags": []
          },
          "execution_count": 104
        }
      ]
    },
    {
      "cell_type": "code",
      "metadata": {
        "id": "uMD84zO-Kzji",
        "colab_type": "code",
        "colab": {}
      },
      "source": [
        ""
      ],
      "execution_count": 0,
      "outputs": []
    }
  ]
}